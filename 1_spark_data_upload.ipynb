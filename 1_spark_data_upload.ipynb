{
  "cells": [
    {
      "cell_type": "markdown",
      "metadata": {
        "id": "view-in-github",
        "colab_type": "text"
      },
      "source": [
        "<a href=\"https://colab.research.google.com/github/Matteo-Artuso/pyspark_exemple/blob/main/1_spark_data_upload.ipynb\" target=\"_parent\"><img src=\"https://colab.research.google.com/assets/colab-badge.svg\" alt=\"Open In Colab\"/></a>"
      ]
    },
    {
      "cell_type": "code",
      "source": [
        "!pip install pyspark"
      ],
      "metadata": {
        "colab": {
          "base_uri": "https://localhost:8080/"
        },
        "id": "63vuBVkXMu8L",
        "outputId": "f0fecd91-be1d-44c9-e680-37184371d3cd"
      },
      "id": "63vuBVkXMu8L",
      "execution_count": 1,
      "outputs": [
        {
          "output_type": "stream",
          "name": "stdout",
          "text": [
            "Looking in indexes: https://pypi.org/simple, https://us-python.pkg.dev/colab-wheels/public/simple/\n",
            "Collecting pyspark\n",
            "  Downloading pyspark-3.3.1.tar.gz (281.4 MB)\n",
            "\u001b[K     |████████████████████████████████| 281.4 MB 42 kB/s \n",
            "\u001b[?25hCollecting py4j==0.10.9.5\n",
            "  Downloading py4j-0.10.9.5-py2.py3-none-any.whl (199 kB)\n",
            "\u001b[K     |████████████████████████████████| 199 kB 54.1 MB/s \n",
            "\u001b[?25hBuilding wheels for collected packages: pyspark\n",
            "  Building wheel for pyspark (setup.py) ... \u001b[?25l\u001b[?25hdone\n",
            "  Created wheel for pyspark: filename=pyspark-3.3.1-py2.py3-none-any.whl size=281845512 sha256=886efa1191fd58d89fe5a248c3f86aa0b9c144d2808137592b4aca14dda13125\n",
            "  Stored in directory: /root/.cache/pip/wheels/43/dc/11/ec201cd671da62fa9c5cc77078235e40722170ceba231d7598\n",
            "Successfully built pyspark\n",
            "Installing collected packages: py4j, pyspark\n",
            "Successfully installed py4j-0.10.9.5 pyspark-3.3.1\n"
          ]
        }
      ]
    },
    {
      "cell_type": "code",
      "execution_count": 2,
      "id": "72909aec-742a-452b-a118-6c500790b96a",
      "metadata": {
        "id": "72909aec-742a-452b-a118-6c500790b96a"
      },
      "outputs": [],
      "source": [
        "# Import the basic spark library\n",
        "from pyspark.sql import SparkSession\n",
        "\n",
        "# Create an entry point to the PySpark Application\n",
        "spark = SparkSession.builder \\\n",
        "      .master(\"local\") \\\n",
        "      .appName(\"MyFirstSparkApplication\") \\\n",
        "      .getOrCreate()\n",
        "# master contains the URL of your remote spark instance or 'local'"
      ]
    },
    {
      "cell_type": "markdown",
      "id": "08722a3e-89c6-42ed-95b0-3d97e0ff0eb7",
      "metadata": {
        "id": "08722a3e-89c6-42ed-95b0-3d97e0ff0eb7"
      },
      "source": [
        "<h4>Resilient Distributed Dataset (RDD)</h4>\n",
        "<ul>\n",
        "    <li>Fault tolerant</li>\n",
        "    <li>Resilient</li>\n",
        "    <li>Immutable</li>\n",
        "    <li>Partitioned</li>\n",
        "</ul>"
      ]
    },
    {
      "cell_type": "markdown",
      "id": "906fc50f-a3e1-4e13-b4e3-60a12abaabfc",
      "metadata": {
        "id": "906fc50f-a3e1-4e13-b4e3-60a12abaabfc"
      },
      "source": [
        "<h4>Data Upload</h4>"
      ]
    },
    {
      "cell_type": "code",
      "execution_count": 3,
      "id": "0f617ed1-5bce-4e2f-9e7b-5a89161792d9",
      "metadata": {
        "id": "0f617ed1-5bce-4e2f-9e7b-5a89161792d9"
      },
      "outputs": [],
      "source": [
        "# Upload data from a list  \n",
        "data = [(\"Margherita\", 5.95, [\"Tomato Sauce\", \"Mozzarella Cheese\", \"Basil\"]),\n",
        "        (\"Calzone\", 7.95, [\"Tomato Sauce\", \"Mozzarella Cheese\", \"Prosciutto Cotto\"])]\n",
        "\n",
        "# Create an RDD\n",
        "rdd = spark.sparkContext.parallelize(data)"
      ]
    },
    {
      "cell_type": "code",
      "execution_count": 4,
      "id": "a4df7f8d-b127-4671-9f20-d8d6e2d2dcfd",
      "metadata": {
        "id": "a4df7f8d-b127-4671-9f20-d8d6e2d2dcfd"
      },
      "outputs": [],
      "source": [
        "# Upload list from a file\n",
        "rdd_2 = spark.sparkContext.textFile(\"menu.txt\")"
      ]
    },
    {
      "cell_type": "markdown",
      "id": "97f80f26-6a96-4da0-b1a8-787156ef7306",
      "metadata": {
        "id": "97f80f26-6a96-4da0-b1a8-787156ef7306"
      },
      "source": [
        "<h4>Dataframe Creation</h4>"
      ]
    },
    {
      "cell_type": "code",
      "execution_count": 5,
      "id": "01ebb85c-13d4-4ab7-8f3f-f5e5534c6763",
      "metadata": {
        "id": "01ebb85c-13d4-4ab7-8f3f-f5e5534c6763"
      },
      "outputs": [],
      "source": [
        "# Create a Dataframe\n",
        "df_data = [(\"Margherita\", 5.95, [\"Tomato Sauce\", \"Mozzarella Cheese\", \"Basil\"]),\n",
        "        (\"Calzone\", 7.95, [\"Tomato Sauce\", \"Mozzarella Cheese\", \"Prosciutto Cotto\"]),\n",
        "        (\"Diavola\", 5.95, [\"Tomato Sauce\", \"Mozzarella Cheese\", \"Spicy Salame\"]),\n",
        "        (\"Prosciutto\", 7.95, [\"Tomato Sauce\", \"Mozzarella Cheese\", \"Prosciutto Cotto\"]),\n",
        "        (\"Speck & Brie\", 7.95, [\"Tomato Sauce\", \"Mozzarella Cheese\", \"Speck\", \"Brie\"]),\n",
        "        (\"Tonno & Cipolle\", 7.95, [\"Tomato Sauce\", \"Mozzarella Cheese\", \"Tuna\", \"Onions\"]),\n",
        "        (\"Fries\", 3.95, [\"Potatoes\"])]\n",
        "        \n",
        "columns = [\"Pizza Name\", \"Price\", \"Ingredients\"]\n",
        "df = spark.createDataFrame(data = df_data, schema = columns)"
      ]
    },
    {
      "cell_type": "code",
      "execution_count": 6,
      "id": "72e85e8b-cfa2-45a0-b88f-7cf3af1fa54e",
      "metadata": {
        "colab": {
          "base_uri": "https://localhost:8080/"
        },
        "id": "72e85e8b-cfa2-45a0-b88f-7cf3af1fa54e",
        "outputId": "8aaa7e3a-a54d-44f2-e8ac-431e61f5bd4c"
      },
      "outputs": [
        {
          "output_type": "stream",
          "name": "stdout",
          "text": [
            "+---------------+-----+--------------------+\n",
            "|     Pizza Name|Price|         Ingredients|\n",
            "+---------------+-----+--------------------+\n",
            "|     Margherita| 5.95|[Tomato Sauce, Mo...|\n",
            "|        Calzone| 7.95|[Tomato Sauce, Mo...|\n",
            "|        Diavola| 5.95|[Tomato Sauce, Mo...|\n",
            "|     Prosciutto| 7.95|[Tomato Sauce, Mo...|\n",
            "|   Speck & Brie| 7.95|[Tomato Sauce, Mo...|\n",
            "|Tonno & Cipolle| 7.95|[Tomato Sauce, Mo...|\n",
            "|          Fries| 3.95|          [Potatoes]|\n",
            "+---------------+-----+--------------------+\n",
            "\n"
          ]
        }
      ],
      "source": [
        "# Show the first 20 elements of a dataframe\n",
        "df.show()"
      ]
    },
    {
      "cell_type": "code",
      "execution_count": 7,
      "id": "c3db8f5c-fd71-4a78-9b94-09c2a2d3617f",
      "metadata": {
        "colab": {
          "base_uri": "https://localhost:8080/"
        },
        "id": "c3db8f5c-fd71-4a78-9b94-09c2a2d3617f",
        "outputId": "3662265d-58f5-48c4-fc0d-d05b9c9eb5c6"
      },
      "outputs": [
        {
          "output_type": "stream",
          "name": "stdout",
          "text": [
            "root\n",
            " |-- Pizza Name: string (nullable = true)\n",
            " |--  Price: string (nullable = true)\n",
            " |--  Ingredients: string (nullable = true)\n",
            "\n",
            "+---------------+------+--------------------+\n",
            "|     Pizza Name| Price|         Ingredients|\n",
            "+---------------+------+--------------------+\n",
            "|     Margherita|  5.95| [\"Tomato Sauce\",...|\n",
            "|        Calzone|  7.95| [\"Tomato Sauce\",...|\n",
            "|        Diavola|  5.95| [\"Tomato Sauce\",...|\n",
            "|     Prosciutto|  7.95| [\"Tomato Sauce\",...|\n",
            "|   Speck & Brie|  7.95| [\"Tomato Sauce\",...|\n",
            "|Tonno & Cipolle|  7.95| [\"Tomato Sauce\",...|\n",
            "+---------------+------+--------------------+\n",
            "\n"
          ]
        }
      ],
      "source": [
        "# Load a DataFrame\n",
        "df = spark.read.option(\"header\", True).option(\"delimiter\", \";\").csv(\"menu.csv\")\n",
        "\n",
        "# Print detected \n",
        "df.printSchema()\n",
        "\n",
        "df.show()"
      ]
    },
    {
      "cell_type": "markdown",
      "id": "40df7837-91d6-4220-a23c-cfc04a71d790",
      "metadata": {
        "id": "40df7837-91d6-4220-a23c-cfc04a71d790"
      },
      "source": [
        "<h4>Dataframes from RDDs</h4>"
      ]
    },
    {
      "cell_type": "code",
      "execution_count": 8,
      "id": "b361785f-81cd-4039-91a0-1471891e816d",
      "metadata": {
        "colab": {
          "base_uri": "https://localhost:8080/"
        },
        "id": "b361785f-81cd-4039-91a0-1471891e816d",
        "outputId": "13fae6b9-0d08-4e9b-863d-042d212d0137"
      },
      "outputs": [
        {
          "output_type": "stream",
          "name": "stdout",
          "text": [
            "root\n",
            " |-- _1: string (nullable = true)\n",
            " |-- _2: double (nullable = true)\n",
            " |-- _3: array (nullable = true)\n",
            " |    |-- element: string (containsNull = true)\n",
            "\n"
          ]
        }
      ],
      "source": [
        "# Transform the RDD into a Dataframe\n",
        "df_from_rdd = rdd.toDF()\n",
        "\n",
        "# Print the schema of the Dataframe\n",
        "df_from_rdd.printSchema()"
      ]
    },
    {
      "cell_type": "code",
      "execution_count": 9,
      "id": "0755516e-a93f-40d7-8167-13c622ce6e83",
      "metadata": {
        "colab": {
          "base_uri": "https://localhost:8080/"
        },
        "id": "0755516e-a93f-40d7-8167-13c622ce6e83",
        "outputId": "fb6c3c18-edd4-4e07-fbd3-aaabdf91dd87"
      },
      "outputs": [
        {
          "output_type": "stream",
          "name": "stdout",
          "text": [
            "root\n",
            " |-- Pizza Name: string (nullable = true)\n",
            " |-- Price: double (nullable = true)\n",
            " |-- Ingredients: array (nullable = true)\n",
            " |    |-- element: string (containsNull = true)\n",
            "\n"
          ]
        }
      ],
      "source": [
        "#Transform the RDD into a Dataframe, specifying the columns\n",
        "columns = [\"Pizza Name\", \"Price\", \"Ingredients\"]\n",
        "df_from_rdd = rdd.toDF(columns)\n",
        "df_from_rdd.printSchema()"
      ]
    },
    {
      "cell_type": "code",
      "execution_count": 10,
      "id": "0faf942b-8160-4d82-8f4b-70321b01fe62",
      "metadata": {
        "colab": {
          "base_uri": "https://localhost:8080/"
        },
        "id": "0faf942b-8160-4d82-8f4b-70321b01fe62",
        "outputId": "68f89e2a-ed2d-4268-f6ce-708bf64769ef"
      },
      "outputs": [
        {
          "output_type": "stream",
          "name": "stdout",
          "text": [
            "root\n",
            " |-- Pizza Name: string (nullable = true)\n",
            " |-- Price: double (nullable = true)\n",
            " |-- Ingredients: array (nullable = true)\n",
            " |    |-- element: string (containsNull = true)\n",
            "\n"
          ]
        }
      ],
      "source": [
        "df_2_from_rdd = spark.createDataFrame(rdd).toDF(*columns)\n",
        "df_from_rdd.printSchema()"
      ]
    },
    {
      "cell_type": "markdown",
      "id": "418c4704-59d3-4f0f-9582-e2d9134ff1bf",
      "metadata": {
        "id": "418c4704-59d3-4f0f-9582-e2d9134ff1bf"
      },
      "source": [
        "<h4>Custom Dataframe</h4>"
      ]
    },
    {
      "cell_type": "code",
      "execution_count": 11,
      "id": "0ebfda87-f209-4aa2-b989-6cfd5aed57d0",
      "metadata": {
        "colab": {
          "base_uri": "https://localhost:8080/"
        },
        "id": "0ebfda87-f209-4aa2-b989-6cfd5aed57d0",
        "outputId": "c59cd5b0-3fff-4719-cceb-4f99c41de842"
      },
      "outputs": [
        {
          "output_type": "stream",
          "name": "stdout",
          "text": [
            "root\n",
            " |-- Pizza Name: string (nullable = true)\n",
            " |-- Price: float (nullable = true)\n",
            " |-- Ingredients: array (nullable = true)\n",
            " |    |-- element: string (containsNull = true)\n",
            "\n",
            "+---------------+-----+---------------------------------------------------+\n",
            "|Pizza Name     |Price|Ingredients                                        |\n",
            "+---------------+-----+---------------------------------------------------+\n",
            "|Margherita     |5.95 |[Tomato Sauce, Mozzarella Cheese, Basil]           |\n",
            "|Calzone        |7.95 |[Tomato Sauce, Mozzarella Cheese, Prosciutto Cotto]|\n",
            "|Diavola        |5.95 |[Tomato Sauce, Mozzarella Cheese, Spicy Salame]    |\n",
            "|Prosciutto     |7.95 |[Tomato Sauce, Mozzarella Cheese, Prosciutto Cotto]|\n",
            "|Speck & Brie   |7.95 |[Tomato Sauce, Mozzarella Cheese, Speck, Brie]     |\n",
            "|Tonno & Cipolle|7.95 |[Tomato Sauce, Mozzarella Cheese, Tuna, Onions]    |\n",
            "|Fries          |3.95 |[Potatoes]                                         |\n",
            "+---------------+-----+---------------------------------------------------+\n",
            "\n"
          ]
        }
      ],
      "source": [
        "from pyspark.sql.types import StructType, StructField, StringType, FloatType, ArrayType\n",
        "\n",
        "#Createe the schema using StructField(Name, Type, Nullable)\n",
        "schema = StructType([ \\\n",
        "    StructField(\"Pizza Name\", StringType(), True), \\\n",
        "    StructField(\"Price\", FloatType(), True), \\\n",
        "    StructField(\"Ingredients\", ArrayType(StringType()), True) \\\n",
        "])\n",
        " \n",
        "df = spark.createDataFrame(data = df_data, schema = schema)\n",
        "df.printSchema()\n",
        "df.show(truncate=False)"
      ]
    },
    {
      "cell_type": "markdown",
      "id": "6991a58a-c4d8-48a7-9b74-f20267254efb",
      "metadata": {
        "tags": [],
        "id": "6991a58a-c4d8-48a7-9b74-f20267254efb"
      },
      "source": [
        "<h4>Organizing Data</h4>"
      ]
    },
    {
      "cell_type": "code",
      "execution_count": 12,
      "id": "741212ed-9671-4b45-abd1-dfd99021632f",
      "metadata": {
        "colab": {
          "base_uri": "https://localhost:8080/"
        },
        "id": "741212ed-9671-4b45-abd1-dfd99021632f",
        "outputId": "f388e15f-b1e6-46bf-db7e-ad02bd1de3a3"
      },
      "outputs": [
        {
          "output_type": "stream",
          "name": "stdout",
          "text": [
            "+---------------+-----+---------------------------------------------------+\n",
            "|Pizza Name     |Price|Ingredients                                        |\n",
            "+---------------+-----+---------------------------------------------------+\n",
            "|Fries          |3.95 |[Potatoes]                                         |\n",
            "|Margherita     |5.95 |[Tomato Sauce, Mozzarella Cheese, Basil]           |\n",
            "|Diavola        |5.95 |[Tomato Sauce, Mozzarella Cheese, Spicy Salame]    |\n",
            "|Calzone        |7.95 |[Tomato Sauce, Mozzarella Cheese, Prosciutto Cotto]|\n",
            "|Prosciutto     |7.95 |[Tomato Sauce, Mozzarella Cheese, Prosciutto Cotto]|\n",
            "|Speck & Brie   |7.95 |[Tomato Sauce, Mozzarella Cheese, Speck, Brie]     |\n",
            "|Tonno & Cipolle|7.95 |[Tomato Sauce, Mozzarella Cheese, Tuna, Onions]    |\n",
            "+---------------+-----+---------------------------------------------------+\n",
            "\n"
          ]
        }
      ],
      "source": [
        "# Sorting depending on the fields (default = ascending order)\n",
        "df.sort(\"Price\").show(truncate = False)"
      ]
    },
    {
      "cell_type": "code",
      "execution_count": 14,
      "id": "ec0f8118-a616-43e4-b501-2d7e0cce34a5",
      "metadata": {
        "colab": {
          "base_uri": "https://localhost:8080/"
        },
        "id": "ec0f8118-a616-43e4-b501-2d7e0cce34a5",
        "outputId": "a2817350-bef9-489b-ddd0-b8ae432d37bc"
      },
      "outputs": [
        {
          "output_type": "stream",
          "name": "stdout",
          "text": [
            "+---------------+-----+---------------------------------------------------+\n",
            "|Pizza Name     |Price|Ingredients                                        |\n",
            "+---------------+-----+---------------------------------------------------+\n",
            "|Fries          |3.95 |[Potatoes]                                         |\n",
            "|Diavola        |5.95 |[Tomato Sauce, Mozzarella Cheese, Spicy Salame]    |\n",
            "|Margherita     |5.95 |[Tomato Sauce, Mozzarella Cheese, Basil]           |\n",
            "|Calzone        |7.95 |[Tomato Sauce, Mozzarella Cheese, Prosciutto Cotto]|\n",
            "|Prosciutto     |7.95 |[Tomato Sauce, Mozzarella Cheese, Prosciutto Cotto]|\n",
            "|Speck & Brie   |7.95 |[Tomato Sauce, Mozzarella Cheese, Speck, Brie]     |\n",
            "|Tonno & Cipolle|7.95 |[Tomato Sauce, Mozzarella Cheese, Tuna, Onions]    |\n",
            "+---------------+-----+---------------------------------------------------+\n",
            "\n"
          ]
        }
      ],
      "source": [
        "from pyspark.sql.functions import col\n",
        "# Sorting depending on the fields\n",
        "df.sort(col(\"Price\"), col(\"Pizza Name\")).show(truncate = False)"
      ]
    },
    {
      "cell_type": "code",
      "execution_count": 15,
      "id": "1857f478-be58-4acb-8235-99ffc5230879",
      "metadata": {
        "colab": {
          "base_uri": "https://localhost:8080/"
        },
        "id": "1857f478-be58-4acb-8235-99ffc5230879",
        "outputId": "88ef9f97-4461-43e9-d708-f654f311ae71"
      },
      "outputs": [
        {
          "output_type": "stream",
          "name": "stdout",
          "text": [
            "+---------------+-----+---------------------------------------------------+\n",
            "|Pizza Name     |Price|Ingredients                                        |\n",
            "+---------------+-----+---------------------------------------------------+\n",
            "|Fries          |3.95 |[Potatoes]                                         |\n",
            "|Diavola        |5.95 |[Tomato Sauce, Mozzarella Cheese, Spicy Salame]    |\n",
            "|Margherita     |5.95 |[Tomato Sauce, Mozzarella Cheese, Basil]           |\n",
            "|Calzone        |7.95 |[Tomato Sauce, Mozzarella Cheese, Prosciutto Cotto]|\n",
            "|Prosciutto     |7.95 |[Tomato Sauce, Mozzarella Cheese, Prosciutto Cotto]|\n",
            "|Speck & Brie   |7.95 |[Tomato Sauce, Mozzarella Cheese, Speck, Brie]     |\n",
            "|Tonno & Cipolle|7.95 |[Tomato Sauce, Mozzarella Cheese, Tuna, Onions]    |\n",
            "+---------------+-----+---------------------------------------------------+\n",
            "\n"
          ]
        }
      ],
      "source": [
        "# Sorting using orderBy\n",
        "df.orderBy(col(\"Price\"), col(\"Pizza Name\")).show(truncate = False)"
      ]
    },
    {
      "cell_type": "code",
      "execution_count": 16,
      "id": "821c2b65-e3ab-4fd9-8538-07d0bb081ca5",
      "metadata": {
        "colab": {
          "base_uri": "https://localhost:8080/"
        },
        "id": "821c2b65-e3ab-4fd9-8538-07d0bb081ca5",
        "outputId": "d6014f1c-7a46-4146-9f1e-6c25afd713d0"
      },
      "outputs": [
        {
          "output_type": "stream",
          "name": "stdout",
          "text": [
            "+---------------+-----+---------------------------------------------------+\n",
            "|Pizza Name     |Price|Ingredients                                        |\n",
            "+---------------+-----+---------------------------------------------------+\n",
            "|Fries          |3.95 |[Potatoes]                                         |\n",
            "|Margherita     |5.95 |[Tomato Sauce, Mozzarella Cheese, Basil]           |\n",
            "|Diavola        |5.95 |[Tomato Sauce, Mozzarella Cheese, Spicy Salame]    |\n",
            "|Tonno & Cipolle|7.95 |[Tomato Sauce, Mozzarella Cheese, Tuna, Onions]    |\n",
            "|Speck & Brie   |7.95 |[Tomato Sauce, Mozzarella Cheese, Speck, Brie]     |\n",
            "|Prosciutto     |7.95 |[Tomato Sauce, Mozzarella Cheese, Prosciutto Cotto]|\n",
            "|Calzone        |7.95 |[Tomato Sauce, Mozzarella Cheese, Prosciutto Cotto]|\n",
            "+---------------+-----+---------------------------------------------------+\n",
            "\n"
          ]
        }
      ],
      "source": [
        "# Expliciting the sorting (work the same with orderBy)\n",
        "df.sort(col(\"Price\").asc(), col(\"Pizza Name\").desc()).show(truncate = False)"
      ]
    },
    {
      "cell_type": "code",
      "execution_count": 17,
      "id": "dc3e4b71-ac6c-4419-b26e-01c00e2a93c2",
      "metadata": {
        "id": "dc3e4b71-ac6c-4419-b26e-01c00e2a93c2"
      },
      "outputs": [],
      "source": [
        "# We could also use raw SQL\n",
        "# No spoilers -> We'll see how to use it later on"
      ]
    },
    {
      "cell_type": "markdown",
      "id": "cc888070-3830-424b-be01-29dc552df799",
      "metadata": {
        "id": "cc888070-3830-424b-be01-29dc552df799"
      },
      "source": [
        "<h4>Explode Arrays in Individual Rows</h4>"
      ]
    },
    {
      "cell_type": "code",
      "execution_count": 18,
      "id": "4f11d458-11b0-4dd9-b0bf-9707c599fdd2",
      "metadata": {
        "colab": {
          "base_uri": "https://localhost:8080/"
        },
        "id": "4f11d458-11b0-4dd9-b0bf-9707c599fdd2",
        "outputId": "1e26c9d0-5604-4bfb-e80f-eabbc90faa37"
      },
      "outputs": [
        {
          "output_type": "stream",
          "name": "stdout",
          "text": [
            "root\n",
            " |-- Pizza Name: string (nullable = true)\n",
            " |-- Price: float (nullable = true)\n",
            " |-- col: string (nullable = true)\n",
            "\n",
            "+---------------+-----+-----------------+\n",
            "|Pizza Name     |Price|col              |\n",
            "+---------------+-----+-----------------+\n",
            "|Margherita     |5.95 |Tomato Sauce     |\n",
            "|Margherita     |5.95 |Mozzarella Cheese|\n",
            "|Margherita     |5.95 |Basil            |\n",
            "|Calzone        |7.95 |Tomato Sauce     |\n",
            "|Calzone        |7.95 |Mozzarella Cheese|\n",
            "|Calzone        |7.95 |Prosciutto Cotto |\n",
            "|Diavola        |5.95 |Tomato Sauce     |\n",
            "|Diavola        |5.95 |Mozzarella Cheese|\n",
            "|Diavola        |5.95 |Spicy Salame     |\n",
            "|Prosciutto     |7.95 |Tomato Sauce     |\n",
            "|Prosciutto     |7.95 |Mozzarella Cheese|\n",
            "|Prosciutto     |7.95 |Prosciutto Cotto |\n",
            "|Speck & Brie   |7.95 |Tomato Sauce     |\n",
            "|Speck & Brie   |7.95 |Mozzarella Cheese|\n",
            "|Speck & Brie   |7.95 |Speck            |\n",
            "|Speck & Brie   |7.95 |Brie             |\n",
            "|Tonno & Cipolle|7.95 |Tomato Sauce     |\n",
            "|Tonno & Cipolle|7.95 |Mozzarella Cheese|\n",
            "|Tonno & Cipolle|7.95 |Tuna             |\n",
            "|Tonno & Cipolle|7.95 |Onions           |\n",
            "+---------------+-----+-----------------+\n",
            "only showing top 20 rows\n",
            "\n"
          ]
        }
      ],
      "source": [
        "from pyspark.sql.functions import explode\n",
        "\n",
        "exploded_df = df.select(col(\"Pizza Name\"), df.Price, explode(df.Ingredients))\n",
        "exploded_df.printSchema()\n",
        "exploded_df.show(truncate = False)"
      ]
    },
    {
      "cell_type": "code",
      "execution_count": 19,
      "id": "91dbc7d0-ee23-4c83-99be-4d1d15523f1a",
      "metadata": {
        "colab": {
          "base_uri": "https://localhost:8080/"
        },
        "id": "91dbc7d0-ee23-4c83-99be-4d1d15523f1a",
        "outputId": "11319705-decc-4fc7-ec7e-5e8a461c94e7"
      },
      "outputs": [
        {
          "output_type": "stream",
          "name": "stdout",
          "text": [
            "root\n",
            " |-- Pizza Name: string (nullable = true)\n",
            " |-- Price: float (nullable = true)\n",
            " |-- Ingredient: string (nullable = true)\n",
            "\n"
          ]
        }
      ],
      "source": [
        "# How can we rename a column?\n",
        "exploded_df = exploded_df.withColumnRenamed(\"col\", \"Ingredient\").printSchema()"
      ]
    }
  ],
  "metadata": {
    "kernelspec": {
      "display_name": "Python 3 (ipykernel)",
      "language": "python",
      "name": "python3"
    },
    "language_info": {
      "codemirror_mode": {
        "name": "ipython",
        "version": 3
      },
      "file_extension": ".py",
      "mimetype": "text/x-python",
      "name": "python",
      "nbconvert_exporter": "python",
      "pygments_lexer": "ipython3",
      "version": "3.10.5"
    },
    "colab": {
      "provenance": [],
      "include_colab_link": true
    }
  },
  "nbformat": 4,
  "nbformat_minor": 5
}