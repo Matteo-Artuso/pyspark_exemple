{
  "cells": [
    {
      "cell_type": "markdown",
      "metadata": {
        "id": "view-in-github",
        "colab_type": "text"
      },
      "source": [
        "<a href=\"https://colab.research.google.com/github/Matteo-Artuso/pyspark_exemple/blob/main/2_spark_data_filtering.ipynb\" target=\"_parent\"><img src=\"https://colab.research.google.com/assets/colab-badge.svg\" alt=\"Open In Colab\"/></a>"
      ]
    },
    {
      "cell_type": "code",
      "source": [
        "!pip install pyspark"
      ],
      "metadata": {
        "colab": {
          "base_uri": "https://localhost:8080/"
        },
        "id": "T7IItBGSP_IS",
        "outputId": "10a81198-2aef-4370-acd4-f2599511abf1"
      },
      "id": "T7IItBGSP_IS",
      "execution_count": 2,
      "outputs": [
        {
          "output_type": "stream",
          "name": "stdout",
          "text": [
            "Looking in indexes: https://pypi.org/simple, https://us-python.pkg.dev/colab-wheels/public/simple/\n",
            "Collecting pyspark\n",
            "  Downloading pyspark-3.3.1.tar.gz (281.4 MB)\n",
            "\u001b[K     |████████████████████████████████| 281.4 MB 40 kB/s \n",
            "\u001b[?25hCollecting py4j==0.10.9.5\n",
            "  Downloading py4j-0.10.9.5-py2.py3-none-any.whl (199 kB)\n",
            "\u001b[K     |████████████████████████████████| 199 kB 46.6 MB/s \n",
            "\u001b[?25hBuilding wheels for collected packages: pyspark\n",
            "  Building wheel for pyspark (setup.py) ... \u001b[?25l\u001b[?25hdone\n",
            "  Created wheel for pyspark: filename=pyspark-3.3.1-py2.py3-none-any.whl size=281845512 sha256=1ce40a4713703bf05aca5cf5e7046e6e8658f8eb93ee261d26f93c5b83cc9b76\n",
            "  Stored in directory: /root/.cache/pip/wheels/43/dc/11/ec201cd671da62fa9c5cc77078235e40722170ceba231d7598\n",
            "Successfully built pyspark\n",
            "Installing collected packages: py4j, pyspark\n",
            "Successfully installed py4j-0.10.9.5 pyspark-3.3.1\n"
          ]
        }
      ]
    },
    {
      "cell_type": "markdown",
      "id": "1ec99204-2e83-400b-8f1e-3eba18bca76b",
      "metadata": {
        "id": "1ec99204-2e83-400b-8f1e-3eba18bca76b"
      },
      "source": [
        "<h4>Operations</h4>\n",
        "<p>Spark supports two different types of operations</p>\n",
        "<ul>\n",
        "    <li><b>Transformations</b> on RDDs return another RDD as a result (e.g., filter()), this is why they are called lazy operations.</li>\n",
        "    <li><b>Actions</b> return values from RDDs</li>\n",
        "</ul>"
      ]
    },
    {
      "cell_type": "code",
      "execution_count": 3,
      "id": "28e21cac-e56d-4edb-8825-0907b7831b80",
      "metadata": {
        "id": "28e21cac-e56d-4edb-8825-0907b7831b80"
      },
      "outputs": [],
      "source": [
        "# Import the basic spark library\n",
        "from pyspark.sql import SparkSession\n",
        "\n",
        "# Create an entry point to the PySpark Application\n",
        "spark = SparkSession.builder \\\n",
        "      .master(\"local\") \\\n",
        "      .appName(\"MyFirstSparkApplication\") \\\n",
        "      .getOrCreate()"
      ]
    },
    {
      "cell_type": "code",
      "execution_count": 4,
      "id": "5b10fba0-1852-4990-8464-05b327d7f908",
      "metadata": {
        "colab": {
          "base_uri": "https://localhost:8080/"
        },
        "id": "5b10fba0-1852-4990-8464-05b327d7f908",
        "outputId": "c861f3fe-3341-4d48-bd84-fc18bc519072"
      },
      "outputs": [
        {
          "output_type": "stream",
          "name": "stdout",
          "text": [
            "root\n",
            " |-- Pizza Name: string (nullable = true)\n",
            " |-- Price: float (nullable = true)\n",
            " |-- Ingredients: array (nullable = true)\n",
            " |    |-- element: string (containsNull = true)\n",
            "\n",
            "+---------------+-----+---------------------------------------------------+\n",
            "|Pizza Name     |Price|Ingredients                                        |\n",
            "+---------------+-----+---------------------------------------------------+\n",
            "|Margherita     |5.95 |[Tomato Sauce, Mozzarella Cheese, Basil]           |\n",
            "|Calzone        |7.95 |[Tomato Sauce, Mozzarella Cheese, Prosciutto Cotto]|\n",
            "|Diavola        |5.95 |[Tomato Sauce, Mozzarella Cheese, Spicy Salame]    |\n",
            "|Prosciutto     |7.95 |[Tomato Sauce, Mozzarella Cheese, Prosciutto Cotto]|\n",
            "|Speck & Brie   |7.95 |[Tomato Sauce, Mozzarella Cheese, Speck, Brie]     |\n",
            "|Tonno & Cipolle|7.95 |[Tomato Sauce, Mozzarella Cheese, Tuna, Onions]    |\n",
            "|Fries          |3.95 |[Potatoes]                                         |\n",
            "+---------------+-----+---------------------------------------------------+\n",
            "\n"
          ]
        }
      ],
      "source": [
        "from pyspark.sql.types import StructType, StructField, StringType, FloatType, ArrayType\n",
        "\n",
        "#Createe the schema using StructField(Name, Type, Nullable)\n",
        "schema = StructType([ \\\n",
        "    StructField(\"Pizza Name\", StringType(), True), \\\n",
        "    StructField(\"Price\", FloatType(), True), \\\n",
        "    StructField(\"Ingredients\", ArrayType(StringType()), True) \\\n",
        "])\n",
        "\n",
        "df_data = [(\"Margherita\", 5.95, [\"Tomato Sauce\", \"Mozzarella Cheese\", \"Basil\"]),\n",
        "        (\"Calzone\", 7.95, [\"Tomato Sauce\", \"Mozzarella Cheese\", \"Prosciutto Cotto\"]),\n",
        "        (\"Diavola\", 5.95, [\"Tomato Sauce\", \"Mozzarella Cheese\", \"Spicy Salame\"]),\n",
        "        (\"Prosciutto\", 7.95, [\"Tomato Sauce\", \"Mozzarella Cheese\", \"Prosciutto Cotto\"]),\n",
        "        (\"Speck & Brie\", 7.95, [\"Tomato Sauce\", \"Mozzarella Cheese\", \"Speck\", \"Brie\"]),\n",
        "        (\"Tonno & Cipolle\", 7.95, [\"Tomato Sauce\", \"Mozzarella Cheese\", \"Tuna\", \"Onions\"]),\n",
        "        (\"Fries\", 3.95, [\"Potatoes\"])]\n",
        "\n",
        "df = spark.createDataFrame(data = df_data, schema = schema)\n",
        "df.printSchema()\n",
        "df.show(truncate=False)"
      ]
    },
    {
      "cell_type": "markdown",
      "id": "e621d1c6-a58e-411c-b447-62361f70edaf",
      "metadata": {
        "id": "e621d1c6-a58e-411c-b447-62361f70edaf"
      },
      "source": [
        "<h4>Filtering operations (i.e., WHERE conditions)</h4>"
      ]
    },
    {
      "cell_type": "code",
      "execution_count": 5,
      "id": "097aa80f-0f7e-410a-b7ca-c11911676c42",
      "metadata": {
        "colab": {
          "base_uri": "https://localhost:8080/"
        },
        "id": "097aa80f-0f7e-410a-b7ca-c11911676c42",
        "outputId": "3ba584bd-8863-4e4e-e74b-e6c9c16285eb"
      },
      "outputs": [
        {
          "output_type": "stream",
          "name": "stdout",
          "text": [
            "+---------------+-----+---------------------------------------------------+\n",
            "|Pizza Name     |Price|Ingredients                                        |\n",
            "+---------------+-----+---------------------------------------------------+\n",
            "|Calzone        |7.95 |[Tomato Sauce, Mozzarella Cheese, Prosciutto Cotto]|\n",
            "|Prosciutto     |7.95 |[Tomato Sauce, Mozzarella Cheese, Prosciutto Cotto]|\n",
            "|Speck & Brie   |7.95 |[Tomato Sauce, Mozzarella Cheese, Speck, Brie]     |\n",
            "|Tonno & Cipolle|7.95 |[Tomato Sauce, Mozzarella Cheese, Tuna, Onions]    |\n",
            "+---------------+-----+---------------------------------------------------+\n",
            "\n"
          ]
        }
      ],
      "source": [
        "# Filtering using equal condition\n",
        "df.filter(df.Price == \"7.95\").show(truncate = False)"
      ]
    },
    {
      "cell_type": "code",
      "execution_count": 6,
      "id": "3890f4c0-b576-4d7c-bb03-271efdabad32",
      "metadata": {
        "colab": {
          "base_uri": "https://localhost:8080/"
        },
        "id": "3890f4c0-b576-4d7c-bb03-271efdabad32",
        "outputId": "523f25b6-3ccb-424f-ff6b-3b4f45f7e9df"
      },
      "outputs": [
        {
          "output_type": "stream",
          "name": "stdout",
          "text": [
            "+----------+-----+-----------------------------------------------+\n",
            "|Pizza Name|Price|Ingredients                                    |\n",
            "+----------+-----+-----------------------------------------------+\n",
            "|Margherita|5.95 |[Tomato Sauce, Mozzarella Cheese, Basil]       |\n",
            "|Diavola   |5.95 |[Tomato Sauce, Mozzarella Cheese, Spicy Salame]|\n",
            "|Fries     |3.95 |[Potatoes]                                     |\n",
            "+----------+-----+-----------------------------------------------+\n",
            "\n"
          ]
        }
      ],
      "source": [
        "# Filtering using not equal condition\n",
        "df.filter(df.Price != \"7.95\").show(truncate = False)"
      ]
    },
    {
      "cell_type": "code",
      "execution_count": 7,
      "id": "f4c6b57a-f2fb-4a31-ba21-de3fdd02091d",
      "metadata": {
        "colab": {
          "base_uri": "https://localhost:8080/"
        },
        "id": "f4c6b57a-f2fb-4a31-ba21-de3fdd02091d",
        "outputId": "d18615f0-1af4-4c04-c560-d26ca7806844"
      },
      "outputs": [
        {
          "output_type": "stream",
          "name": "stdout",
          "text": [
            "+---------------+-----+---------------------------------------------------+\n",
            "|Pizza Name     |Price|Ingredients                                        |\n",
            "+---------------+-----+---------------------------------------------------+\n",
            "|Calzone        |7.95 |[Tomato Sauce, Mozzarella Cheese, Prosciutto Cotto]|\n",
            "|Prosciutto     |7.95 |[Tomato Sauce, Mozzarella Cheese, Prosciutto Cotto]|\n",
            "|Speck & Brie   |7.95 |[Tomato Sauce, Mozzarella Cheese, Speck, Brie]     |\n",
            "|Tonno & Cipolle|7.95 |[Tomato Sauce, Mozzarella Cheese, Tuna, Onions]    |\n",
            "+---------------+-----+---------------------------------------------------+\n",
            "\n"
          ]
        }
      ],
      "source": [
        "# Filtering using the col() function\n",
        "from pyspark.sql.functions import col\n",
        "\n",
        "df.filter(col(\"Price\") == \"7.95\").show(truncate = False)"
      ]
    },
    {
      "cell_type": "code",
      "execution_count": 8,
      "id": "4f3e798c-e904-4e1a-9cee-f104c2fa1735",
      "metadata": {
        "colab": {
          "base_uri": "https://localhost:8080/"
        },
        "id": "4f3e798c-e904-4e1a-9cee-f104c2fa1735",
        "outputId": "1f82f4e5-24b5-4f4c-be54-bd3332a199c0"
      },
      "outputs": [
        {
          "output_type": "stream",
          "name": "stdout",
          "text": [
            "+---------------+-----+---------------------------------------------------+\n",
            "|Pizza Name     |Price|Ingredients                                        |\n",
            "+---------------+-----+---------------------------------------------------+\n",
            "|Calzone        |7.95 |[Tomato Sauce, Mozzarella Cheese, Prosciutto Cotto]|\n",
            "|Prosciutto     |7.95 |[Tomato Sauce, Mozzarella Cheese, Prosciutto Cotto]|\n",
            "|Speck & Brie   |7.95 |[Tomato Sauce, Mozzarella Cheese, Speck, Brie]     |\n",
            "|Tonno & Cipolle|7.95 |[Tomato Sauce, Mozzarella Cheese, Tuna, Onions]    |\n",
            "+---------------+-----+---------------------------------------------------+\n",
            "\n"
          ]
        }
      ],
      "source": [
        "# Filtering using SQL Expression\n",
        "df.filter(\"Price == '7.95'\").show(truncate = False)"
      ]
    },
    {
      "cell_type": "code",
      "execution_count": 9,
      "id": "ccadd971-637f-4fc0-979e-11e194776d83",
      "metadata": {
        "colab": {
          "base_uri": "https://localhost:8080/"
        },
        "id": "ccadd971-637f-4fc0-979e-11e194776d83",
        "outputId": "fd85f4c8-f409-43f3-e22e-8e9ac2a186d5"
      },
      "outputs": [
        {
          "output_type": "stream",
          "name": "stdout",
          "text": [
            "+----------+-----+---------------------------------------------------+\n",
            "|Pizza Name|Price|Ingredients                                        |\n",
            "+----------+-----+---------------------------------------------------+\n",
            "|Calzone   |7.95 |[Tomato Sauce, Mozzarella Cheese, Prosciutto Cotto]|\n",
            "+----------+-----+---------------------------------------------------+\n",
            "\n"
          ]
        }
      ],
      "source": [
        "# Filtering with multiple conditions\n",
        "df.filter((df.Price == \"7.95\") & (col(\"Pizza Name\") == \"Calzone\")).show(truncate = False)\n",
        "\n",
        "# N.B. Parenthesis are essential!"
      ]
    },
    {
      "cell_type": "code",
      "execution_count": 10,
      "id": "82083d1d-4134-4b42-a310-b896153e970d",
      "metadata": {
        "colab": {
          "base_uri": "https://localhost:8080/"
        },
        "id": "82083d1d-4134-4b42-a310-b896153e970d",
        "outputId": "ff5e6899-7279-43b6-a040-93e292b72604"
      },
      "outputs": [
        {
          "output_type": "stream",
          "name": "stdout",
          "text": [
            "+---------------+-----+-----------------------------------------------+\n",
            "|Pizza Name     |Price|Ingredients                                    |\n",
            "+---------------+-----+-----------------------------------------------+\n",
            "|Speck & Brie   |7.95 |[Tomato Sauce, Mozzarella Cheese, Speck, Brie] |\n",
            "|Tonno & Cipolle|7.95 |[Tomato Sauce, Mozzarella Cheese, Tuna, Onions]|\n",
            "+---------------+-----+-----------------------------------------------+\n",
            "\n",
            "+----------+-----+---------------------------------------------------+\n",
            "|Pizza Name|Price|Ingredients                                        |\n",
            "+----------+-----+---------------------------------------------------+\n",
            "|Margherita|5.95 |[Tomato Sauce, Mozzarella Cheese, Basil]           |\n",
            "|Calzone   |7.95 |[Tomato Sauce, Mozzarella Cheese, Prosciutto Cotto]|\n",
            "|Diavola   |5.95 |[Tomato Sauce, Mozzarella Cheese, Spicy Salame]    |\n",
            "|Prosciutto|7.95 |[Tomato Sauce, Mozzarella Cheese, Prosciutto Cotto]|\n",
            "|Fries     |3.95 |[Potatoes]                                         |\n",
            "+----------+-----+---------------------------------------------------+\n",
            "\n"
          ]
        }
      ],
      "source": [
        "# Filtering w.r.t. a list of elements\n",
        "favourite_pizzas = [\"Speck & Brie\", \"Tonno & Cipolle\"]\n",
        "\n",
        "# \"is in\" Filtering\n",
        "df.filter(col(\"Pizza Name\").isin(favourite_pizzas)).show(truncate = False)\n",
        "\n",
        "# \"is not in\" Filtering\n",
        "df.filter(col(\"Pizza Name\").isin(favourite_pizzas) == False).show(truncate = False)"
      ]
    },
    {
      "cell_type": "code",
      "execution_count": 11,
      "id": "a6a50bfc-356f-435f-bed7-48c084b5e91e",
      "metadata": {
        "colab": {
          "base_uri": "https://localhost:8080/"
        },
        "id": "a6a50bfc-356f-435f-bed7-48c084b5e91e",
        "outputId": "6653fe10-dd61-43eb-8307-1a5fba0a66d0"
      },
      "outputs": [
        {
          "output_type": "stream",
          "name": "stdout",
          "text": [
            "+---------------+-----+---------------------------------------------------+\n",
            "|Pizza Name     |Price|Ingredients                                        |\n",
            "+---------------+-----+---------------------------------------------------+\n",
            "|Calzone        |7.95 |[Tomato Sauce, Mozzarella Cheese, Prosciutto Cotto]|\n",
            "|Prosciutto     |7.95 |[Tomato Sauce, Mozzarella Cheese, Prosciutto Cotto]|\n",
            "|Speck & Brie   |7.95 |[Tomato Sauce, Mozzarella Cheese, Speck, Brie]     |\n",
            "|Tonno & Cipolle|7.95 |[Tomato Sauce, Mozzarella Cheese, Tuna, Onions]    |\n",
            "+---------------+-----+---------------------------------------------------+\n",
            "\n",
            "+----------+-----+-----------------------------------------------+\n",
            "|Pizza Name|Price|Ingredients                                    |\n",
            "+----------+-----+-----------------------------------------------+\n",
            "|Margherita|5.95 |[Tomato Sauce, Mozzarella Cheese, Basil]       |\n",
            "|Diavola   |5.95 |[Tomato Sauce, Mozzarella Cheese, Spicy Salame]|\n",
            "|Fries     |3.95 |[Potatoes]                                     |\n",
            "+----------+-----+-----------------------------------------------+\n",
            "\n"
          ]
        }
      ],
      "source": [
        "# Filtering w.r.t. a list of elements\n",
        "\n",
        "# collect() -> Extract the list of rows from the resulting RDD\n",
        "expensive_pizzas = df.filter(col(\"Price\") == \"7.95\").select(\"Pizza Name\").collect()\n",
        "\n",
        "# Extract the value of the chosen field\n",
        "expensive_pizzas = [ep[0] for ep in expensive_pizzas]\n",
        "\n",
        "# \"is in\" Filtering\n",
        "df.filter(col(\"Pizza Name\").isin(expensive_pizzas)).show(truncate = False)\n",
        "\n",
        "# \"is not in\" Filtering\n",
        "df.filter(col(\"Pizza Name\").isin(expensive_pizzas) == False).show(truncate = False)"
      ]
    },
    {
      "cell_type": "code",
      "execution_count": 12,
      "id": "ab71dac8-a60d-4d87-932e-4618fd459659",
      "metadata": {
        "colab": {
          "base_uri": "https://localhost:8080/"
        },
        "id": "ab71dac8-a60d-4d87-932e-4618fd459659",
        "outputId": "97df1af7-f517-48f8-edfa-cf6c38059fce"
      },
      "outputs": [
        {
          "output_type": "stream",
          "name": "stdout",
          "text": [
            "+---------------+-----+-----------------------------------------------+\n",
            "|Pizza Name     |Price|Ingredients                                    |\n",
            "+---------------+-----+-----------------------------------------------+\n",
            "|Tonno & Cipolle|7.95 |[Tomato Sauce, Mozzarella Cheese, Tuna, Onions]|\n",
            "+---------------+-----+-----------------------------------------------+\n",
            "\n",
            "+----------+-----+---------------------------------------------------+\n",
            "|Pizza Name|Price|Ingredients                                        |\n",
            "+----------+-----+---------------------------------------------------+\n",
            "|Calzone   |7.95 |[Tomato Sauce, Mozzarella Cheese, Prosciutto Cotto]|\n",
            "+----------+-----+---------------------------------------------------+\n",
            "\n",
            "+---------------+-----+-----------------------------------------------+\n",
            "|Pizza Name     |Price|Ingredients                                    |\n",
            "+---------------+-----+-----------------------------------------------+\n",
            "|Speck & Brie   |7.95 |[Tomato Sauce, Mozzarella Cheese, Speck, Brie] |\n",
            "|Tonno & Cipolle|7.95 |[Tomato Sauce, Mozzarella Cheese, Tuna, Onions]|\n",
            "+---------------+-----+-----------------------------------------------+\n",
            "\n"
          ]
        }
      ],
      "source": [
        "# Filtering based on the content of the column\n",
        "\n",
        "# Filtering based on the initial letter(s)\n",
        "df.filter(col(\"Pizza Name\").startswith(\"To\")).show(truncate = False)\n",
        "\n",
        "# Filtering based on the ending letter(s)\n",
        "df.filter(col(\"Pizza Name\").endswith(\"one\")).show(truncate = False)\n",
        "\n",
        "# Filtering based on whether a word is contained in the word\n",
        "df.filter(col(\"Pizza Name\").contains(\"&\")).show(truncate = False)"
      ]
    },
    {
      "cell_type": "code",
      "execution_count": 13,
      "id": "542f134c-e9c5-4618-a888-3e7e183097f1",
      "metadata": {
        "colab": {
          "base_uri": "https://localhost:8080/"
        },
        "id": "542f134c-e9c5-4618-a888-3e7e183097f1",
        "outputId": "ed1f5826-3245-4b49-881e-a40a3a19796f"
      },
      "outputs": [
        {
          "output_type": "stream",
          "name": "stdout",
          "text": [
            "+---------------+-----+---------------------------------------------------+\n",
            "|Pizza Name     |Price|Ingredients                                        |\n",
            "+---------------+-----+---------------------------------------------------+\n",
            "|Calzone        |7.95 |[Tomato Sauce, Mozzarella Cheese, Prosciutto Cotto]|\n",
            "|Tonno & Cipolle|7.95 |[Tomato Sauce, Mozzarella Cheese, Tuna, Onions]    |\n",
            "+---------------+-----+---------------------------------------------------+\n",
            "\n",
            "+---------------+-----+-----------------------------------------------+\n",
            "|Pizza Name     |Price|Ingredients                                    |\n",
            "+---------------+-----+-----------------------------------------------+\n",
            "|Speck & Brie   |7.95 |[Tomato Sauce, Mozzarella Cheese, Speck, Brie] |\n",
            "|Tonno & Cipolle|7.95 |[Tomato Sauce, Mozzarella Cheese, Tuna, Onions]|\n",
            "+---------------+-----+-----------------------------------------------+\n",
            "\n"
          ]
        }
      ],
      "source": [
        "# Filtering using like (i.e., SQL LIKE) \n",
        "df.filter(col(\"Pizza Name\").like(\"%on%\")).show(truncate = False)\n",
        "\n",
        "# Filtering using rlike (i.e., REGEX LIKE)\n",
        "df.filter(col(\"Pizza Name\").rlike(\"[A-z]*&[A-z]*\")).show(truncate = False)"
      ]
    },
    {
      "cell_type": "code",
      "execution_count": 14,
      "id": "846f3281-c30c-46b2-a5ec-875a426e2eca",
      "metadata": {
        "colab": {
          "base_uri": "https://localhost:8080/"
        },
        "id": "846f3281-c30c-46b2-a5ec-875a426e2eca",
        "outputId": "227296f0-776d-4fc5-dafb-2e9960bd6638"
      },
      "outputs": [
        {
          "output_type": "stream",
          "name": "stdout",
          "text": [
            "+---------------+-----+---------------------------------------------------+\n",
            "|Pizza Name     |Price|Ingredients                                        |\n",
            "+---------------+-----+---------------------------------------------------+\n",
            "|Margherita     |5.95 |[Tomato Sauce, Mozzarella Cheese, Basil]           |\n",
            "|Calzone        |7.95 |[Tomato Sauce, Mozzarella Cheese, Prosciutto Cotto]|\n",
            "|Diavola        |5.95 |[Tomato Sauce, Mozzarella Cheese, Spicy Salame]    |\n",
            "|Prosciutto     |7.95 |[Tomato Sauce, Mozzarella Cheese, Prosciutto Cotto]|\n",
            "|Speck & Brie   |7.95 |[Tomato Sauce, Mozzarella Cheese, Speck, Brie]     |\n",
            "|Tonno & Cipolle|7.95 |[Tomato Sauce, Mozzarella Cheese, Tuna, Onions]    |\n",
            "+---------------+-----+---------------------------------------------------+\n",
            "\n",
            "+----------+-----+----------------------------------------+\n",
            "|Pizza Name|Price|Ingredients                             |\n",
            "+----------+-----+----------------------------------------+\n",
            "|Margherita|5.95 |[Tomato Sauce, Mozzarella Cheese, Basil]|\n",
            "+----------+-----+----------------------------------------+\n",
            "\n"
          ]
        }
      ],
      "source": [
        "# Filtering on array columns\n",
        "from pyspark.sql.functions import array_contains\n",
        "\n",
        "# Filtering on a single value\n",
        "df.filter(array_contains(df.Ingredients, \"Tomato Sauce\")).show(truncate = False)\n",
        "\n",
        "# Filtering on multiple values\n",
        "df.filter(array_contains(df.Ingredients, \"Tomato Sauce\") & array_contains(df.Ingredients, \"Basil\")).show(truncate = False)"
      ]
    },
    {
      "cell_type": "code",
      "execution_count": 15,
      "id": "e8f1abfa-f7e0-4329-9603-bedec4ca8416",
      "metadata": {
        "colab": {
          "base_uri": "https://localhost:8080/"
        },
        "id": "e8f1abfa-f7e0-4329-9603-bedec4ca8416",
        "outputId": "cf614842-4ce1-43d4-a715-0fd4b4ea50db"
      },
      "outputs": [
        {
          "output_type": "stream",
          "name": "stdout",
          "text": [
            "+------------+-----+---------------------------------------------------+\n",
            "|Pizza Name  |Price|Ingredients                                        |\n",
            "+------------+-----+---------------------------------------------------+\n",
            "|Margherita  |5.95 |[Tomato Sauce, Mozzarella Cheese, Basil]           |\n",
            "|Calzone     |7.95 |[Tomato Sauce, Mozzarella Cheese, Prosciutto Cotto]|\n",
            "|Diavola     |5.95 |[Tomato Sauce, Mozzarella Cheese, Spicy Salame]    |\n",
            "|Prosciutto  |7.95 |[Tomato Sauce, Mozzarella Cheese, Prosciutto Cotto]|\n",
            "|Speck & Brie|7.95 |[Tomato Sauce, Mozzarella Cheese, Speck, Brie]     |\n",
            "+------------+-----+---------------------------------------------------+\n",
            "\n"
          ]
        }
      ],
      "source": [
        "# Limit the results to the first 5 elements\n",
        "df.limit(5).show(truncate = False)"
      ]
    }
  ],
  "metadata": {
    "kernelspec": {
      "display_name": "Python 3 (ipykernel)",
      "language": "python",
      "name": "python3"
    },
    "language_info": {
      "codemirror_mode": {
        "name": "ipython",
        "version": 3
      },
      "file_extension": ".py",
      "mimetype": "text/x-python",
      "name": "python",
      "nbconvert_exporter": "python",
      "pygments_lexer": "ipython3",
      "version": "3.10.5"
    },
    "colab": {
      "provenance": [],
      "include_colab_link": true
    }
  },
  "nbformat": 4,
  "nbformat_minor": 5
}