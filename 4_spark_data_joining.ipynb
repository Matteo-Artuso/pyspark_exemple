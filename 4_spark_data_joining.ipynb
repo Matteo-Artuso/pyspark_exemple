{
  "cells": [
    {
      "cell_type": "markdown",
      "metadata": {
        "id": "view-in-github",
        "colab_type": "text"
      },
      "source": [
        "<a href=\"https://colab.research.google.com/github/Matteo-Artuso/pyspark_exemple/blob/main/4_spark_data_joining.ipynb\" target=\"_parent\"><img src=\"https://colab.research.google.com/assets/colab-badge.svg\" alt=\"Open In Colab\"/></a>"
      ]
    },
    {
      "cell_type": "code",
      "source": [
        "!pip install pyspark"
      ],
      "metadata": {
        "colab": {
          "base_uri": "https://localhost:8080/"
        },
        "id": "1GlOKjMWSQb_",
        "outputId": "a4bd8a99-d2ba-483d-f792-b07d2419b150"
      },
      "id": "1GlOKjMWSQb_",
      "execution_count": null,
      "outputs": [
        {
          "output_type": "stream",
          "name": "stdout",
          "text": [
            "Looking in indexes: https://pypi.org/simple, https://us-python.pkg.dev/colab-wheels/public/simple/\n",
            "Collecting pyspark\n",
            "  Downloading pyspark-3.3.1.tar.gz (281.4 MB)\n",
            "\u001b[K     |████████████████████████████████| 281.4 MB 40 kB/s \n",
            "\u001b[?25hCollecting py4j==0.10.9.5\n",
            "  Downloading py4j-0.10.9.5-py2.py3-none-any.whl (199 kB)\n",
            "\u001b[K     |████████████████████████████████| 199 kB 56.8 MB/s \n",
            "\u001b[?25hBuilding wheels for collected packages: pyspark\n",
            "  Building wheel for pyspark (setup.py) ... \u001b[?25l\u001b[?25hdone\n",
            "  Created wheel for pyspark: filename=pyspark-3.3.1-py2.py3-none-any.whl size=281845512 sha256=0141c44efdf3e0f5ad4b46a891369bbc48d0340b61db52eb201cb064aaebd5b8\n",
            "  Stored in directory: /root/.cache/pip/wheels/43/dc/11/ec201cd671da62fa9c5cc77078235e40722170ceba231d7598\n",
            "Successfully built pyspark\n",
            "Installing collected packages: py4j, pyspark\n",
            "Successfully installed py4j-0.10.9.5 pyspark-3.3.1\n"
          ]
        }
      ]
    },
    {
      "cell_type": "code",
      "execution_count": null,
      "id": "6d6cf7dd-6993-43ae-8834-c8ee21703c73",
      "metadata": {
        "id": "6d6cf7dd-6993-43ae-8834-c8ee21703c73"
      },
      "outputs": [],
      "source": [
        "# Import the basic spark library\n",
        "from pyspark.sql import SparkSession\n",
        "\n",
        "# Create an entry point to the PySpark Application\n",
        "spark = SparkSession.builder \\\n",
        "      .master(\"local\") \\\n",
        "      .appName(\"MyFirstSparkApplication\") \\\n",
        "      .getOrCreate()"
      ]
    },
    {
      "cell_type": "code",
      "execution_count": null,
      "id": "4c10f3da-bdc1-4f49-a614-a670d3d6ff6b",
      "metadata": {
        "colab": {
          "base_uri": "https://localhost:8080/"
        },
        "id": "4c10f3da-bdc1-4f49-a614-a670d3d6ff6b",
        "outputId": "b822f6b5-ea37-457d-9205-b6594ea64954"
      },
      "outputs": [
        {
          "output_type": "stream",
          "name": "stdout",
          "text": [
            "root\n",
            " |-- Pizza Name: string (nullable = true)\n",
            " |-- Price: float (nullable = true)\n",
            " |-- Ingredients_ID: string (nullable = true)\n",
            "\n",
            "+---------------+-----+--------------+\n",
            "|Pizza Name     |Price|Ingredients_ID|\n",
            "+---------------+-----+--------------+\n",
            "|Margherita     |5.95 |IG_1          |\n",
            "|Calzone        |7.95 |IG_2          |\n",
            "|Diavola        |5.95 |IG_3          |\n",
            "|Prosciutto     |7.95 |IG_4          |\n",
            "|Speck & Brie   |7.95 |IG_7          |\n",
            "|Tonno & Cipolle|7.95 |IG_8          |\n",
            "+---------------+-----+--------------+\n",
            "\n"
          ]
        }
      ],
      "source": [
        "from pyspark.sql.types import StructType, StructField, StringType, FloatType, ArrayType\n",
        "\n",
        "#Createe the schema using StructField(Name, Type, Nullable)\n",
        "schema = StructType([ \\\n",
        "    StructField(\"Pizza Name\", StringType(), True), \\\n",
        "    StructField(\"Price\", FloatType(), True), \\\n",
        "    StructField(\"Ingredients_ID\", StringType(), True) \\\n",
        "])\n",
        "\n",
        "df_data = [(\"Margherita\", 5.95, \"IG_1\"),\n",
        "        (\"Calzone\", 7.95, \"IG_2\"),\n",
        "        (\"Diavola\", 5.95, \"IG_3\"),\n",
        "        (\"Prosciutto\", 7.95, \"IG_4\"),\n",
        "        (\"Speck & Brie\", 7.95, \"IG_7\"),\n",
        "        (\"Tonno & Cipolle\", 7.95, \"IG_8\")]\n",
        "\n",
        "df = spark.createDataFrame(data = df_data, schema = schema)\n",
        "df.printSchema()\n",
        "df.show(truncate=False)"
      ]
    },
    {
      "cell_type": "code",
      "execution_count": null,
      "id": "6592431e-facb-4dd6-81b4-72b1136a5589",
      "metadata": {
        "colab": {
          "base_uri": "https://localhost:8080/"
        },
        "id": "6592431e-facb-4dd6-81b4-72b1136a5589",
        "outputId": "c22f34e5-51e3-48da-eb59-a6a32fa8c548"
      },
      "outputs": [
        {
          "output_type": "stream",
          "name": "stdout",
          "text": [
            "root\n",
            " |-- Ingredients_ID: string (nullable = true)\n",
            " |-- Ingredients: array (nullable = true)\n",
            " |    |-- element: string (containsNull = true)\n",
            "\n",
            "+--------------+---------------------------------------------------+\n",
            "|Ingredients_ID|Ingredients                                        |\n",
            "+--------------+---------------------------------------------------+\n",
            "|IG_1          |[Tomato Sauce, Mozzarella Cheese, Basil]           |\n",
            "|IG_2          |[Tomato Sauce, Mozzarella Cheese, Prosciutto Cotto]|\n",
            "|IG_3          |[Tomato Sauce, Mozzarella Cheese, Spicy Salame]    |\n",
            "|IG_4          |[Tomato Sauce, Mozzarella Cheese, Prosciutto Cotto]|\n",
            "|IG_5          |[Tomato Sauce, Mozzarella Cheese, Speck, Brie]     |\n",
            "|IG_6          |[Tomato Sauce, Mozzarella Cheese, Tuna, Onions]    |\n",
            "+--------------+---------------------------------------------------+\n",
            "\n"
          ]
        }
      ],
      "source": [
        "ingredient_schema = StructType([ \\\n",
        "    StructField(\"Ingredients_ID\", StringType(), True), \\\n",
        "    StructField(\"Ingredients\", ArrayType(StringType()), True) \\\n",
        "])\n",
        "\n",
        "ingredient_df_data = [(\"IG_1\", [\"Tomato Sauce\", \"Mozzarella Cheese\", \"Basil\"]),\n",
        "                    (\"IG_2\", [\"Tomato Sauce\", \"Mozzarella Cheese\", \"Prosciutto Cotto\"]),\n",
        "                    (\"IG_3\", [\"Tomato Sauce\", \"Mozzarella Cheese\", \"Spicy Salame\"]),\n",
        "                    (\"IG_4\", [\"Tomato Sauce\", \"Mozzarella Cheese\", \"Prosciutto Cotto\"]),\n",
        "                    (\"IG_5\", [\"Tomato Sauce\", \"Mozzarella Cheese\", \"Speck\", \"Brie\"]),\n",
        "                    (\"IG_6\", [\"Tomato Sauce\", \"Mozzarella Cheese\", \"Tuna\", \"Onions\"])]\n",
        "\n",
        "ingredient_df = spark.createDataFrame(data = ingredient_df_data, schema = ingredient_schema)\n",
        "ingredient_df.printSchema()\n",
        "ingredient_df.show(truncate=False)"
      ]
    },
    {
      "cell_type": "markdown",
      "id": "3c775f1d-f665-4aa3-91e2-14c3cf9736c4",
      "metadata": {
        "id": "3c775f1d-f665-4aa3-91e2-14c3cf9736c4"
      },
      "source": [
        "<h4>Join Operations</h4>"
      ]
    },
    {
      "cell_type": "code",
      "execution_count": null,
      "id": "336490bc-5bbb-4196-aa8b-f9e3bbecf739",
      "metadata": {
        "colab": {
          "base_uri": "https://localhost:8080/"
        },
        "id": "336490bc-5bbb-4196-aa8b-f9e3bbecf739",
        "outputId": "731cd75e-4ee2-4b04-d190-f2968802a195"
      },
      "outputs": [
        {
          "output_type": "stream",
          "name": "stdout",
          "text": [
            "+----------+-----+--------------+--------------+---------------------------------------------------+\n",
            "|Pizza Name|Price|Ingredients_ID|Ingredients_ID|Ingredients                                        |\n",
            "+----------+-----+--------------+--------------+---------------------------------------------------+\n",
            "|Margherita|5.95 |IG_1          |IG_1          |[Tomato Sauce, Mozzarella Cheese, Basil]           |\n",
            "|Calzone   |7.95 |IG_2          |IG_2          |[Tomato Sauce, Mozzarella Cheese, Prosciutto Cotto]|\n",
            "|Diavola   |5.95 |IG_3          |IG_3          |[Tomato Sauce, Mozzarella Cheese, Spicy Salame]    |\n",
            "|Prosciutto|7.95 |IG_4          |IG_4          |[Tomato Sauce, Mozzarella Cheese, Prosciutto Cotto]|\n",
            "+----------+-----+--------------+--------------+---------------------------------------------------+\n",
            "\n"
          ]
        }
      ],
      "source": [
        "# Inner join - returns the tuples that matched in both tables\n",
        "df.join(ingredient_df, df.Ingredients_ID == ingredient_df.Ingredients_ID, \"inner\") \\\n",
        "     .show(truncate=False)"
      ]
    },
    {
      "cell_type": "code",
      "execution_count": null,
      "id": "95861579-a701-40a2-bcd9-1fc026478a31",
      "metadata": {
        "colab": {
          "base_uri": "https://localhost:8080/"
        },
        "id": "95861579-a701-40a2-bcd9-1fc026478a31",
        "outputId": "48f65c12-cbc6-4293-8335-346cdbfe0695"
      },
      "outputs": [
        {
          "output_type": "stream",
          "name": "stdout",
          "text": [
            "+---------------+-----+--------------+--------------+---------------------------------------------------+\n",
            "|Pizza Name     |Price|Ingredients_ID|Ingredients_ID|Ingredients                                        |\n",
            "+---------------+-----+--------------+--------------+---------------------------------------------------+\n",
            "|Margherita     |5.95 |IG_1          |IG_1          |[Tomato Sauce, Mozzarella Cheese, Basil]           |\n",
            "|Calzone        |7.95 |IG_2          |IG_2          |[Tomato Sauce, Mozzarella Cheese, Prosciutto Cotto]|\n",
            "|Diavola        |5.95 |IG_3          |IG_3          |[Tomato Sauce, Mozzarella Cheese, Spicy Salame]    |\n",
            "|Prosciutto     |7.95 |IG_4          |IG_4          |[Tomato Sauce, Mozzarella Cheese, Prosciutto Cotto]|\n",
            "|null           |null |null          |IG_5          |[Tomato Sauce, Mozzarella Cheese, Speck, Brie]     |\n",
            "|null           |null |null          |IG_6          |[Tomato Sauce, Mozzarella Cheese, Tuna, Onions]    |\n",
            "|Speck & Brie   |7.95 |IG_7          |null          |null                                               |\n",
            "|Tonno & Cipolle|7.95 |IG_8          |null          |null                                               |\n",
            "+---------------+-----+--------------+--------------+---------------------------------------------------+\n",
            "\n",
            "+---------------+-----+--------------+--------------+---------------------------------------------------+\n",
            "|Pizza Name     |Price|Ingredients_ID|Ingredients_ID|Ingredients                                        |\n",
            "+---------------+-----+--------------+--------------+---------------------------------------------------+\n",
            "|Margherita     |5.95 |IG_1          |IG_1          |[Tomato Sauce, Mozzarella Cheese, Basil]           |\n",
            "|Calzone        |7.95 |IG_2          |IG_2          |[Tomato Sauce, Mozzarella Cheese, Prosciutto Cotto]|\n",
            "|Diavola        |5.95 |IG_3          |IG_3          |[Tomato Sauce, Mozzarella Cheese, Spicy Salame]    |\n",
            "|Prosciutto     |7.95 |IG_4          |IG_4          |[Tomato Sauce, Mozzarella Cheese, Prosciutto Cotto]|\n",
            "|null           |null |null          |IG_5          |[Tomato Sauce, Mozzarella Cheese, Speck, Brie]     |\n",
            "|null           |null |null          |IG_6          |[Tomato Sauce, Mozzarella Cheese, Tuna, Onions]    |\n",
            "|Speck & Brie   |7.95 |IG_7          |null          |null                                               |\n",
            "|Tonno & Cipolle|7.95 |IG_8          |null          |null                                               |\n",
            "+---------------+-----+--------------+--------------+---------------------------------------------------+\n",
            "\n",
            "+---------------+-----+--------------+--------------+---------------------------------------------------+\n",
            "|Pizza Name     |Price|Ingredients_ID|Ingredients_ID|Ingredients                                        |\n",
            "+---------------+-----+--------------+--------------+---------------------------------------------------+\n",
            "|Margherita     |5.95 |IG_1          |IG_1          |[Tomato Sauce, Mozzarella Cheese, Basil]           |\n",
            "|Calzone        |7.95 |IG_2          |IG_2          |[Tomato Sauce, Mozzarella Cheese, Prosciutto Cotto]|\n",
            "|Diavola        |5.95 |IG_3          |IG_3          |[Tomato Sauce, Mozzarella Cheese, Spicy Salame]    |\n",
            "|Prosciutto     |7.95 |IG_4          |IG_4          |[Tomato Sauce, Mozzarella Cheese, Prosciutto Cotto]|\n",
            "|null           |null |null          |IG_5          |[Tomato Sauce, Mozzarella Cheese, Speck, Brie]     |\n",
            "|null           |null |null          |IG_6          |[Tomato Sauce, Mozzarella Cheese, Tuna, Onions]    |\n",
            "|Speck & Brie   |7.95 |IG_7          |null          |null                                               |\n",
            "|Tonno & Cipolle|7.95 |IG_8          |null          |null                                               |\n",
            "+---------------+-----+--------------+--------------+---------------------------------------------------+\n",
            "\n"
          ]
        }
      ],
      "source": [
        "# Outer join - returns all the tuples from both tables, if no matches are found, the tuples are returned with null values\n",
        "df.join(ingredient_df, df.Ingredients_ID == ingredient_df.Ingredients_ID, \"outer\") \\\n",
        "     .show(truncate=False)\n",
        "\n",
        "# Outer join\n",
        "df.join(ingredient_df, df.Ingredients_ID == ingredient_df.Ingredients_ID, \"full\") \\\n",
        "     .show(truncate=False)\n",
        "\n",
        "# Outer join\n",
        "df.join(ingredient_df, df.Ingredients_ID == ingredient_df.Ingredients_ID, \"fullouter\") \\\n",
        "     .show(truncate=False)"
      ]
    },
    {
      "cell_type": "code",
      "execution_count": null,
      "id": "1dcf16ad-d5fc-4c9a-98e0-7bad940ef5fd",
      "metadata": {
        "colab": {
          "base_uri": "https://localhost:8080/"
        },
        "id": "1dcf16ad-d5fc-4c9a-98e0-7bad940ef5fd",
        "outputId": "e1d33db5-2dd2-4d1d-ff6b-2d7fa0653e9c"
      },
      "outputs": [
        {
          "output_type": "stream",
          "name": "stdout",
          "text": [
            "+---------------+-----+--------------+--------------+---------------------------------------------------+\n",
            "|Pizza Name     |Price|Ingredients_ID|Ingredients_ID|Ingredients                                        |\n",
            "+---------------+-----+--------------+--------------+---------------------------------------------------+\n",
            "|Margherita     |5.95 |IG_1          |IG_1          |[Tomato Sauce, Mozzarella Cheese, Basil]           |\n",
            "|Prosciutto     |7.95 |IG_4          |IG_4          |[Tomato Sauce, Mozzarella Cheese, Prosciutto Cotto]|\n",
            "|Calzone        |7.95 |IG_2          |IG_2          |[Tomato Sauce, Mozzarella Cheese, Prosciutto Cotto]|\n",
            "|Diavola        |5.95 |IG_3          |IG_3          |[Tomato Sauce, Mozzarella Cheese, Spicy Salame]    |\n",
            "|Tonno & Cipolle|7.95 |IG_8          |null          |null                                               |\n",
            "|Speck & Brie   |7.95 |IG_7          |null          |null                                               |\n",
            "+---------------+-----+--------------+--------------+---------------------------------------------------+\n",
            "\n",
            "+---------------+-----+--------------+--------------+---------------------------------------------------+\n",
            "|Pizza Name     |Price|Ingredients_ID|Ingredients_ID|Ingredients                                        |\n",
            "+---------------+-----+--------------+--------------+---------------------------------------------------+\n",
            "|Margherita     |5.95 |IG_1          |IG_1          |[Tomato Sauce, Mozzarella Cheese, Basil]           |\n",
            "|Prosciutto     |7.95 |IG_4          |IG_4          |[Tomato Sauce, Mozzarella Cheese, Prosciutto Cotto]|\n",
            "|Calzone        |7.95 |IG_2          |IG_2          |[Tomato Sauce, Mozzarella Cheese, Prosciutto Cotto]|\n",
            "|Diavola        |5.95 |IG_3          |IG_3          |[Tomato Sauce, Mozzarella Cheese, Spicy Salame]    |\n",
            "|Tonno & Cipolle|7.95 |IG_8          |null          |null                                               |\n",
            "|Speck & Brie   |7.95 |IG_7          |null          |null                                               |\n",
            "+---------------+-----+--------------+--------------+---------------------------------------------------+\n",
            "\n"
          ]
        }
      ],
      "source": [
        "# Left join\n",
        "df.join(ingredient_df, df.Ingredients_ID == ingredient_df.Ingredients_ID, \"left\") \\\n",
        "     .show(truncate=False)\n",
        "\n",
        "# Left Outer join\n",
        "df.join(ingredient_df, df.Ingredients_ID == ingredient_df.Ingredients_ID, \"leftouter\") \\\n",
        "     .show(truncate=False)"
      ]
    },
    {
      "cell_type": "code",
      "execution_count": null,
      "id": "3cd8accc-4d25-4701-abb2-8659b6f07af6",
      "metadata": {
        "colab": {
          "base_uri": "https://localhost:8080/"
        },
        "id": "3cd8accc-4d25-4701-abb2-8659b6f07af6",
        "outputId": "4042d691-6604-4ed5-d287-711efed66b24"
      },
      "outputs": [
        {
          "output_type": "stream",
          "name": "stdout",
          "text": [
            "+----------+-----+--------------+--------------+---------------------------------------------------+\n",
            "|Pizza Name|Price|Ingredients_ID|Ingredients_ID|Ingredients                                        |\n",
            "+----------+-----+--------------+--------------+---------------------------------------------------+\n",
            "|Margherita|5.95 |IG_1          |IG_1          |[Tomato Sauce, Mozzarella Cheese, Basil]           |\n",
            "|Prosciutto|7.95 |IG_4          |IG_4          |[Tomato Sauce, Mozzarella Cheese, Prosciutto Cotto]|\n",
            "|null      |null |null          |IG_5          |[Tomato Sauce, Mozzarella Cheese, Speck, Brie]     |\n",
            "|Calzone   |7.95 |IG_2          |IG_2          |[Tomato Sauce, Mozzarella Cheese, Prosciutto Cotto]|\n",
            "|Diavola   |5.95 |IG_3          |IG_3          |[Tomato Sauce, Mozzarella Cheese, Spicy Salame]    |\n",
            "|null      |null |null          |IG_6          |[Tomato Sauce, Mozzarella Cheese, Tuna, Onions]    |\n",
            "+----------+-----+--------------+--------------+---------------------------------------------------+\n",
            "\n",
            "+----------+-----+--------------+--------------+---------------------------------------------------+\n",
            "|Pizza Name|Price|Ingredients_ID|Ingredients_ID|Ingredients                                        |\n",
            "+----------+-----+--------------+--------------+---------------------------------------------------+\n",
            "|Margherita|5.95 |IG_1          |IG_1          |[Tomato Sauce, Mozzarella Cheese, Basil]           |\n",
            "|Prosciutto|7.95 |IG_4          |IG_4          |[Tomato Sauce, Mozzarella Cheese, Prosciutto Cotto]|\n",
            "|null      |null |null          |IG_5          |[Tomato Sauce, Mozzarella Cheese, Speck, Brie]     |\n",
            "|Calzone   |7.95 |IG_2          |IG_2          |[Tomato Sauce, Mozzarella Cheese, Prosciutto Cotto]|\n",
            "|Diavola   |5.95 |IG_3          |IG_3          |[Tomato Sauce, Mozzarella Cheese, Spicy Salame]    |\n",
            "|null      |null |null          |IG_6          |[Tomato Sauce, Mozzarella Cheese, Tuna, Onions]    |\n",
            "+----------+-----+--------------+--------------+---------------------------------------------------+\n",
            "\n"
          ]
        }
      ],
      "source": [
        "# Right join\n",
        "df.join(ingredient_df, df.Ingredients_ID == ingredient_df.Ingredients_ID, \"right\") \\\n",
        "     .show(truncate=False)\n",
        "\n",
        "# Right Outer join\n",
        "df.join(ingredient_df, df.Ingredients_ID == ingredient_df.Ingredients_ID, \"rightouter\") \\\n",
        "     .show(truncate=False)"
      ]
    },
    {
      "cell_type": "code",
      "execution_count": null,
      "id": "73e6301f-7ef3-4b98-8da9-581f831e94fe",
      "metadata": {
        "colab": {
          "base_uri": "https://localhost:8080/"
        },
        "id": "73e6301f-7ef3-4b98-8da9-581f831e94fe",
        "outputId": "e31c6431-021f-47f0-ed24-caa66e58a044"
      },
      "outputs": [
        {
          "output_type": "stream",
          "name": "stdout",
          "text": [
            "+----------+-----+--------------+\n",
            "|Pizza Name|Price|Ingredients_ID|\n",
            "+----------+-----+--------------+\n",
            "|Margherita|5.95 |IG_1          |\n",
            "|Calzone   |7.95 |IG_2          |\n",
            "|Diavola   |5.95 |IG_3          |\n",
            "|Prosciutto|7.95 |IG_4          |\n",
            "+----------+-----+--------------+\n",
            "\n"
          ]
        }
      ],
      "source": [
        "# Left Semi join (i.e., left inner join)\n",
        "df.join(ingredient_df, df.Ingredients_ID == ingredient_df.Ingredients_ID, \"leftsemi\") \\\n",
        "     .show(truncate=False)"
      ]
    },
    {
      "cell_type": "code",
      "execution_count": null,
      "id": "a01dba3a-0e2f-4523-97bc-bcb7bd3f1c5a",
      "metadata": {
        "colab": {
          "base_uri": "https://localhost:8080/"
        },
        "id": "a01dba3a-0e2f-4523-97bc-bcb7bd3f1c5a",
        "outputId": "5affa53e-eedb-4a86-ca4d-949f235b2781"
      },
      "outputs": [
        {
          "output_type": "stream",
          "name": "stdout",
          "text": [
            "+---------------+-----+--------------+\n",
            "|Pizza Name     |Price|Ingredients_ID|\n",
            "+---------------+-----+--------------+\n",
            "|Tonno & Cipolle|7.95 |IG_8          |\n",
            "|Speck & Brie   |7.95 |IG_7          |\n",
            "+---------------+-----+--------------+\n",
            "\n"
          ]
        }
      ],
      "source": [
        "# Left Anti join - returns all the tuples without a match in the other table\n",
        "df.join(ingredient_df, df.Ingredients_ID == ingredient_df.Ingredients_ID, \"leftanti\") \\\n",
        "     .show(truncate=False)"
      ]
    },
    {
      "cell_type": "code",
      "execution_count": null,
      "id": "ca637ac3-6fd0-4599-a912-e4a39703dce9",
      "metadata": {
        "colab": {
          "base_uri": "https://localhost:8080/"
        },
        "id": "ca637ac3-6fd0-4599-a912-e4a39703dce9",
        "outputId": "3713e6ab-8086-4d72-d43d-c83c8a567061"
      },
      "outputs": [
        {
          "output_type": "stream",
          "name": "stdout",
          "text": [
            "+---------------+-----+--------------+---------------+-----+--------------+\n",
            "|Pizza Name     |Price|Ingredients_ID|Pizza Name     |Price|Ingredients_ID|\n",
            "+---------------+-----+--------------+---------------+-----+--------------+\n",
            "|Margherita     |5.95 |IG_1          |Margherita     |5.95 |IG_1          |\n",
            "|Calzone        |7.95 |IG_2          |Calzone        |7.95 |IG_2          |\n",
            "|Diavola        |5.95 |IG_3          |Diavola        |5.95 |IG_3          |\n",
            "|Prosciutto     |7.95 |IG_4          |Prosciutto     |7.95 |IG_4          |\n",
            "|Speck & Brie   |7.95 |IG_7          |Speck & Brie   |7.95 |IG_7          |\n",
            "|Tonno & Cipolle|7.95 |IG_8          |Tonno & Cipolle|7.95 |IG_8          |\n",
            "+---------------+-----+--------------+---------------+-----+--------------+\n",
            "\n"
          ]
        }
      ],
      "source": [
        "# Self join\n",
        "df.join(df, df.Ingredients_ID == df.Ingredients_ID, \"inner\") \\\n",
        "     .show(truncate=False)"
      ]
    },
    {
      "cell_type": "code",
      "execution_count": null,
      "id": "f5c86fb9-1c04-4bf1-b70d-fc26d3c55ce0",
      "metadata": {
        "colab": {
          "base_uri": "https://localhost:8080/"
        },
        "id": "f5c86fb9-1c04-4bf1-b70d-fc26d3c55ce0",
        "outputId": "8bfaeae5-2ea4-46a1-ca79-4785bc3b3597"
      },
      "outputs": [
        {
          "output_type": "stream",
          "name": "stdout",
          "text": [
            "+----------+-----+--------------+---------------------------------------------------+--------------+---------------------------------------------------+\n",
            "|Pizza Name|Price|Ingredients_ID|Ingredients                                        |Ingredients_ID|Ingredients                                        |\n",
            "+----------+-----+--------------+---------------------------------------------------+--------------+---------------------------------------------------+\n",
            "|Margherita|5.95 |IG_1          |[Tomato Sauce, Mozzarella Cheese, Basil]           |IG_1          |[Tomato Sauce, Mozzarella Cheese, Basil]           |\n",
            "|Prosciutto|7.95 |IG_4          |[Tomato Sauce, Mozzarella Cheese, Prosciutto Cotto]|IG_4          |[Tomato Sauce, Mozzarella Cheese, Prosciutto Cotto]|\n",
            "|null      |null |null          |null                                               |IG_5          |[Tomato Sauce, Mozzarella Cheese, Speck, Brie]     |\n",
            "|Calzone   |7.95 |IG_2          |[Tomato Sauce, Mozzarella Cheese, Prosciutto Cotto]|IG_2          |[Tomato Sauce, Mozzarella Cheese, Prosciutto Cotto]|\n",
            "|Diavola   |5.95 |IG_3          |[Tomato Sauce, Mozzarella Cheese, Spicy Salame]    |IG_3          |[Tomato Sauce, Mozzarella Cheese, Spicy Salame]    |\n",
            "|null      |null |null          |null                                               |IG_6          |[Tomato Sauce, Mozzarella Cheese, Tuna, Onions]    |\n",
            "+----------+-----+--------------+---------------------------------------------------+--------------+---------------------------------------------------+\n",
            "\n"
          ]
        }
      ],
      "source": [
        "# It is also possible to concatenate multiple joins one after another\n",
        "df.join(ingredient_df, df.Ingredients_ID == ingredient_df.Ingredients_ID, \"inner\") \\\n",
        "  .drop(ingredient_df.Ingredients_ID) \\\n",
        "  .join(ingredient_df, df.Ingredients_ID == ingredient_df.Ingredients_ID, \"right\") \\\n",
        "  .show(truncate=False)"
      ]
    }
  ],
  "metadata": {
    "kernelspec": {
      "display_name": "Python 3 (ipykernel)",
      "language": "python",
      "name": "python3"
    },
    "language_info": {
      "codemirror_mode": {
        "name": "ipython",
        "version": 3
      },
      "file_extension": ".py",
      "mimetype": "text/x-python",
      "name": "python",
      "nbconvert_exporter": "python",
      "pygments_lexer": "ipython3",
      "version": "3.10.5"
    },
    "colab": {
      "provenance": [],
      "include_colab_link": true
    }
  },
  "nbformat": 4,
  "nbformat_minor": 5
}